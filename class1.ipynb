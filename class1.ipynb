{
 "cells": [
  {
   "cell_type": "markdown",
   "metadata": {},
   "source": [
    "# 1. GCD"
   ]
  },
  {
   "cell_type": "markdown",
   "metadata": {},
   "source": [
    "1) Euclid's Algorithm"
   ]
  },
  {
   "cell_type": "code",
   "execution_count": null,
   "metadata": {},
   "outputs": [],
   "source": [
    "def recursive_euclid_gcd(a, b):\n",
    "    if b == 0:\n",
    "        return a\n",
    "    return recursive_euclid_gcd(b, a % b)\n",
    "\n",
    "def iterative_euclid_gcd(a, b):\n",
    "    while b != 0:\n",
    "        a, b = b, a % b\n",
    "    return a"
   ]
  },
  {
   "cell_type": "markdown",
   "metadata": {},
   "source": [
    "2) Alternative Way"
   ]
  },
  {
   "cell_type": "code",
   "execution_count": null,
   "metadata": {},
   "outputs": [],
   "source": [
    "def alt_gcd(a, b):\n",
    "    for i in range(min(a, b), 0, -1):\n",
    "        if a % i == 0:\n",
    "            if b % i == 0:\n",
    "                return i"
   ]
  },
  {
   "cell_type": "markdown",
   "metadata": {},
   "source": [
    "3. Middle School Approach (Not Algorithm)"
   ]
  },
  {
   "cell_type": "code",
   "execution_count": 20,
   "metadata": {},
   "outputs": [
    {
     "data": {
      "text/plain": [
       "5"
      ]
     },
     "execution_count": 20,
     "metadata": {},
     "output_type": "execute_result"
    }
   ],
   "source": [
    "from collections import Counter\n",
    "\n",
    "def get_primes(max_num: int):\n",
    "    prime = list(range(2, max_num + 1))\n",
    "    for i in range(2, max_num + 1):\n",
    "        if prime[i - 2] != -1:\n",
    "            p = i * i\n",
    "            while p <= max_num:\n",
    "                prime[p - 2] = -1\n",
    "                p += i\n",
    "    yield from (i for i in prime if i != -1)\n",
    "\n",
    "def prime_factorisation(a: int):\n",
    "    factors = []\n",
    "    for i in get_primes(a):\n",
    "        while a % i == 0:\n",
    "            factors.append(i)\n",
    "            a //= i\n",
    "    if a > 1:\n",
    "        factors.append(a)\n",
    "    return factors\n",
    "\n",
    "def middle_school_gcd(a, b):\n",
    "    pa = Counter(prime_factorisation(a))\n",
    "    pb = Counter(prime_factorisation(b))\n",
    "    gcd = 1\n",
    "    for p in pa:\n",
    "        if p in pb:\n",
    "            gcd *= p ** min(pa[p], pb[p])\n",
    "    return gcd\n",
    "\n",
    "middle_school_gcd(5, 5**5)"
   ]
  }
 ],
 "metadata": {
  "kernelspec": {
   "display_name": "Python 3",
   "language": "python",
   "name": "python3"
  },
  "language_info": {
   "codemirror_mode": {
    "name": "ipython",
    "version": 3
   },
   "file_extension": ".py",
   "mimetype": "text/x-python",
   "name": "python",
   "nbconvert_exporter": "python",
   "pygments_lexer": "ipython3",
   "version": "3.12.4"
  }
 },
 "nbformat": 4,
 "nbformat_minor": 2
}
