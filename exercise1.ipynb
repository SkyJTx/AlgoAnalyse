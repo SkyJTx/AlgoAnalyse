{
 "cells": [
  {
   "cell_type": "markdown",
   "metadata": {},
   "source": [
    "# Exercise 1.1"
   ]
  },
  {
   "cell_type": "markdown",
   "metadata": {},
   "source": [
    "5. Design an algorithm to find all the common elements in two sorted lists of numbers. For example, for the lists 2, 5, 5, 5 and 2, 2, 3, 5, 5, 7, the output should be 2, 5, 5. What is the maximum number of comparisons your algorithm makes if the lengths of the two given lists are m and n, respectively?"
   ]
  },
  {
   "cell_type": "code",
   "execution_count": 19,
   "metadata": {},
   "outputs": [
    {
     "data": {
      "text/plain": [
       "[2, 5, 5]"
      ]
     },
     "execution_count": 19,
     "metadata": {},
     "output_type": "execute_result"
    }
   ],
   "source": [
    "def common_element(a: list[int], b: list[int]) -> list[int]:\n",
    "    result = []\n",
    "    i = 0\n",
    "    j = 0\n",
    "    while (i < len(a) and j < len(b)):\n",
    "        if a[i] == b[j]:\n",
    "            result.append(a[i])\n",
    "            i += 1\n",
    "            j += 1\n",
    "        elif a[i] < b[j]:\n",
    "            i += 1\n",
    "        else:\n",
    "            j += 1\n",
    "    return result\n",
    "\n",
    "a = [2, 5, 5, 5]\n",
    "b = [2, 2, 3, 5, 5, 7]\n",
    "common_element(a, b)"
   ]
  },
  {
   "cell_type": "markdown",
   "metadata": {},
   "source": [
    "It takes the maximal m + n - 1 comparisons"
   ]
  },
  {
   "cell_type": "markdown",
   "metadata": {},
   "source": [
    "---"
   ]
  },
  {
   "cell_type": "markdown",
   "metadata": {},
   "source": [
    "6. a) Find gcd(31415, 14142) by applying Euclid’s algorithm."
   ]
  },
  {
   "cell_type": "code",
   "execution_count": 20,
   "metadata": {},
   "outputs": [
    {
     "data": {
      "text/plain": [
       "1"
      ]
     },
     "execution_count": 20,
     "metadata": {},
     "output_type": "execute_result"
    }
   ],
   "source": [
    "def gcd_euclid(a: int, b: int):\n",
    "    if b == 0:\n",
    "        return a\n",
    "    return gcd_euclid(b, a % b)\n",
    "\n",
    "gcd_euclid(31415, 14142)"
   ]
  },
  {
   "cell_type": "markdown",
   "metadata": {},
   "source": [
    "---"
   ]
  },
  {
   "cell_type": "markdown",
   "metadata": {},
   "source": [
    "6. b) Estimate how many times faster it will be to find gcd(31415, 14142) by\n",
    "Euclid’s algorithm compared with the algorithm based on checking consecutive integers from min{m, n} down to gcd(m, n)."
   ]
  },
  {
   "cell_type": "markdown",
   "metadata": {},
   "source": [
    "Alt way takes around min{m, n} to 2 times of that\n",
    "So it takes around 14142 to 28284\n",
    "Since Euclid takes 11 divisions\n",
    "We get that Alt way takes more than 14142/11 to 28284/11 times compare to the Euclid"
   ]
  },
  {
   "cell_type": "markdown",
   "metadata": {},
   "source": [
    "---"
   ]
  },
  {
   "cell_type": "markdown",
   "metadata": {},
   "source": [
    "8. What does Euclid’s algorithm do for a pair of integers in which the first is smaller than the second? What is the maximum number of times this can happen during the algorithm’s execution on such an input?"
   ]
  },
  {
   "cell_type": "markdown",
   "metadata": {},
   "source": [
    "let m, n be integers and m < n\n",
    "\n",
    "that means m mod n = m (example 2 mod 5 = 2 because 2/5 has a remainder of 2)\n",
    "\n",
    "from the euclid gcd(m, n) = gcd(n, m mod n)\n",
    "we get gcd(m, n) = gcd(n, m mod n) = gcd (n, m)\n",
    "\n",
    "so it will do a swap and now the first is greater than the second instance\n",
    "\n",
    "so it will as it should normally do\n",
    "\n",
    "Summary: It will do only a swap and do the normal way"
   ]
  },
  {
   "cell_type": "markdown",
   "metadata": {},
   "source": [
    "---"
   ]
  },
  {
   "cell_type": "markdown",
   "metadata": {},
   "source": [
    "# Exercise 1.2"
   ]
  },
  {
   "cell_type": "markdown",
   "metadata": {},
   "source": [
    "3. Which of the following formulas can be considered an algorithm for computing the area of a triangle whose side lengths are given positive numbers a, b, and c?"
   ]
  },
  {
   "cell_type": "markdown",
   "metadata": {},
   "source": [
    "3a. Yes, S = square root of p(p-a)(p-b)(p-c) where p = (a + b + c)/2\n",
    "\n",
    "3b. No, S = 1/2*bc*sin(A) where A is the angle between sides b and c\n",
    "\n",
    "3c. No, S = 1/2*a*ha where ha is the height to base a"
   ]
  },
  {
   "cell_type": "markdown",
   "metadata": {},
   "source": [
    "---"
   ]
  },
  {
   "cell_type": "markdown",
   "metadata": {},
   "source": [
    "5. Describe the standard algorithm for finding the binary representation of a positive decimal integer"
   ]
  },
  {
   "cell_type": "markdown",
   "metadata": {},
   "source": [
    "a. Describe in English\n",
    "\n",
    "Assuming the input is an integer N\n",
    "\n",
    "First, divide N by 2. The remainder whether 0 or 1 becomes the next (right to left) bit representation. The quotient will be use as \"N\" for the next iteration. Repeat the iteration until N is equal to 0"
   ]
  },
  {
   "cell_type": "markdown",
   "metadata": {},
   "source": [
    "b. Describe in pseudocode (**Double click**)\n",
    "\n",
    "Bit_Representation <- []\n",
    "k <- 0\n",
    "while (N is not equal to 0) do\n",
    "    B[k] <- N mod 2\n",
    "    N <- floor of N/2\n",
    "    k <- k + 1"
   ]
  },
  {
   "cell_type": "code",
   "execution_count": 3,
   "metadata": {},
   "outputs": [
    {
     "data": {
      "text/plain": [
       "'1010'"
      ]
     },
     "execution_count": 3,
     "metadata": {},
     "output_type": "execute_result"
    }
   ],
   "source": [
    "def bit_representation(a: int) -> str:\n",
    "    result = \"\"\n",
    "    while a > 0:\n",
    "        result = str(a % 2) + result\n",
    "        a = a // 2\n",
    "    return result\n",
    "\n",
    "bit_representation(10)"
   ]
  },
  {
   "cell_type": "markdown",
   "metadata": {},
   "source": [
    "---"
   ]
  },
  {
   "cell_type": "markdown",
   "metadata": {},
   "source": [
    "9. Consider the following algorithm for finding the distance between the two\n",
    "closest elements in an array of numbers.\n",
    "\n",
    "    Make as many improvements as you can in this algorithmic solution to the\n",
    "problem. If you need to, you may change the algorithm altogether; if not,\n",
    "improve the implementation given."
   ]
  },
  {
   "cell_type": "code",
   "execution_count": 22,
   "metadata": {},
   "outputs": [],
   "source": [
    "def min_distance(a: list):\n",
    "    dmin = float('inf')\n",
    "    for i in range(len(a)):\n",
    "        for j in range(len(a)):\n",
    "            if i != j and abs(a[i] - a[j]) < dmin:\n",
    "                dmin = abs(a[i] - a[j])\n",
    "    return dmin\n",
    "\n",
    "def improved_min_distance(a: list):\n",
    "    dmin = float('inf')\n",
    "    for i in range(len(a)):\n",
    "        for j in range(i + 1, len(a)):\n",
    "            # change to i + 1 because we don't need to recompare\n",
    "            # the same pair of elements due to symmetry of the absolute different\n",
    "            # |a - b| = |b - a|\n",
    "            if abs(a[i] - a[j]) < dmin: # remove i != j because i < j\n",
    "                dmin = abs(a[i] - a[j])\n",
    "    return dmin    "
   ]
  },
  {
   "cell_type": "markdown",
   "metadata": {},
   "source": [
    "---"
   ]
  },
  {
   "cell_type": "markdown",
   "metadata": {},
   "source": [
    "# Exercise 1.3"
   ]
  },
  {
   "cell_type": "markdown",
   "metadata": {},
   "source": [
    "1. Consider the algorithm for the sorting problem that sorts an array by counting, for each of its elements, the number of smaller elements and then uses this information to put the element in its appropriate position in the sorted array:"
   ]
  },
  {
   "cell_type": "code",
   "execution_count": 4,
   "metadata": {},
   "outputs": [
    {
     "data": {
      "text/plain": [
       "[14, 35, 47, 60, 81, 98]"
      ]
     },
     "execution_count": 4,
     "metadata": {},
     "output_type": "execute_result"
    }
   ],
   "source": [
    "from typing import Callable\n",
    "\n",
    "def comparison_counting_sort(a: list, key: Callable = lambda x: x):\n",
    "    count = [0] * len(a)\n",
    "    for i in range(len(a)-1):\n",
    "        for j in range(i+1, len(a)): # do increment when ones is greater\n",
    "            if key(a[i]) < key(a[j]):\n",
    "                count[j] += 1\n",
    "            else:\n",
    "                count[i] += 1\n",
    "    result = [0] * len(a)\n",
    "    for i in range(len(a)):\n",
    "        result[count[i]] = a[i]\n",
    "    return result\n",
    "\n",
    "comparison_counting_sort([60, 35, 81, 98, 14, 47])"
   ]
  },
  {
   "cell_type": "markdown",
   "metadata": {},
   "source": [
    "    1a. Apply this algorithm to sorting the list 60, 35, 81, 98, 14, 47."
   ]
  },
  {
   "cell_type": "markdown",
   "metadata": {},
   "source": [
    "| 60 | 35 | 81 | 98 | 14 | 47 |\n",
    "|----|----|----|----|----|----|\n",
    "| 0 | 0 | 0 | 0 | 0 | 0 |\n",
    "| 3 | 0 | 1 | 1 | 0 | 0 |\n",
    "| 3 | 1 | 2 | 2 | 0 | 1 |\n",
    "| 3 | 1 | 4 | 3 | 0 | 1 |\n",
    "| 3 | 1 | 4 | 5 | 0 | 1 |\n",
    "| 3 | 1 | 4 | 5 | 0 | 2 |\n",
    "|----|----|----|----|----|----|\n",
    "| 14 | 35 | 47 | 60 | 81 | 98 |"
   ]
  },
  {
   "cell_type": "markdown",
   "metadata": {},
   "source": [
    "    1b. Stable?"
   ]
  },
  {
   "cell_type": "code",
   "execution_count": 5,
   "metadata": {},
   "outputs": [
    {
     "name": "stdout",
     "output_type": "stream",
     "text": [
      "[(2, 0), (4, 0), (1, 4), (4, 4), (3, 4), (3, 0), (2, 4), (2, 7), (3, 7), (1, 0)]\n",
      "[(1, 0), (3, 0), (4, 0), (2, 0), (2, 4), (3, 4), (4, 4), (1, 4), (3, 7), (2, 7)]\n",
      "[(1, 4), (1, 0), (2, 7), (2, 4), (2, 0), (3, 7), (3, 4), (3, 0), (4, 4), (4, 0)]\n"
     ]
    }
   ],
   "source": [
    "import random\n",
    "\n",
    "ex = [\n",
    "    (1, 0),\n",
    "    (1, 4),\n",
    "    (2, 4),\n",
    "    (2, 0),\n",
    "    (3, 4),\n",
    "    (3, 0),\n",
    "    (4, 4),\n",
    "    (3, 7),\n",
    "    (4, 0),\n",
    "    (2, 7),\n",
    "]\n",
    "\n",
    "random.shuffle(ex)\n",
    "\n",
    "def sort_ex(ex: list):\n",
    "    print(ex)\n",
    "    ex = comparison_counting_sort(ex, key=lambda x: x[1])\n",
    "    print(ex)\n",
    "    ex = comparison_counting_sort(ex, key=lambda x: x[0])\n",
    "    print(ex)\n",
    "    # No, because it is now sorted in reversed order\n",
    "    # We can make it stable by changing \"key(a[i]) < key(a[j])\" to if \"key(a[i]) <= key(a[j])\"\n",
    "\n",
    "sort_ex(ex)"
   ]
  },
  {
   "cell_type": "markdown",
   "metadata": {},
   "source": [
    "    1c. Not in-place because it requirez count array"
   ]
  },
  {
   "cell_type": "markdown",
   "metadata": {},
   "source": [
    "---"
   ]
  },
  {
   "cell_type": "markdown",
   "metadata": {},
   "source": [
    "3. Design a simple algorithm for the string-matching problem."
   ]
  },
  {
   "cell_type": "code",
   "execution_count": 25,
   "metadata": {},
   "outputs": [
    {
     "data": {
      "text/plain": [
       "4"
      ]
     },
     "execution_count": 25,
     "metadata": {},
     "output_type": "execute_result"
    }
   ],
   "source": [
    "def string_matching(text: str, pattern: str):\n",
    "    for i in range(len(text) - len(pattern) + 1):\n",
    "        j = 0\n",
    "        while j < len(pattern) and text[i+j] == pattern[j]:\n",
    "            j += 1\n",
    "        if j == len(pattern):\n",
    "            return i\n",
    "    return -1\n",
    "\n",
    "string_matching(\"abracadabra\", \"cad\")"
   ]
  },
  {
   "cell_type": "markdown",
   "metadata": {},
   "source": [
    "7.\n",
    "    \n",
    "    a. Rephrase Traveling Salesman in combinatoric ways\n",
    "    b. Rephrase Graph Coloring in combinatoric ways"
   ]
  },
  {
   "cell_type": "code",
   "execution_count": null,
   "metadata": {},
   "outputs": [],
   "source": [
    "from typing import Hashable\n",
    "\n",
    "\n",
    "class Vertex:\n",
    "    def __init__(self, key: Hashable, weight: int):\n",
    "        self.key = key\n",
    "        self.weight = weight\n",
    "        self.nodes = []\n",
    "\n",
    "    def __str__(self):\n",
    "        return f\"Vertex({self.key}, {self.weight})\"\n",
    "    \n",
    "    def __repr__(self):\n",
    "        return str(self)\n",
    "    \n",
    "    def __lt__(self, other):\n",
    "        return self.weight < other.weight\n",
    "    \n",
    "    def __eq__(self, other):\n",
    "        return self.weight == other.weight\n",
    "\n",
    "    def __hash__(self) -> int:\n",
    "        return hash(self.key)"
   ]
  },
  {
   "cell_type": "markdown",
   "metadata": {},
   "source": [
    "a. หา Permutation ทั้งหมดของ Vertices หาค่า Weight ของ Vertex ที่ต่อกันทุก ๆ คู่ของ Vertex ในแต่ละ Permutation บวกกับ Vertex แรกกับสุดท้าย ที่มีค่าน้อยที่สุด\n",
    "\n",
    "b. แบ่ง Vertices ให้เป็น Subset ที่ไม่มีสมาชิกร่วมกันให้ได้น้อยที่สุด โดยที่สมาชิกในทุก ๆ Subset ต้องไม่เชื่อมต่อกัน"
   ]
  },
  {
   "cell_type": "markdown",
   "metadata": {},
   "source": [
    "---"
   ]
  },
  {
   "cell_type": "markdown",
   "metadata": {},
   "source": [
    "9. Design an algorithm for the following problem: Given a set of n points in the Cartesian plane, determine whether all of them lie on the same circumference."
   ]
  },
  {
   "cell_type": "code",
   "execution_count": 41,
   "metadata": {},
   "outputs": [
    {
     "name": "stdout",
     "output_type": "stream",
     "text": [
      "(0, -1) nan x: nan, y: nan, radius: nan\n",
      "(3, 4) nan x: nan, y: nan, radius: nan\n"
     ]
    },
    {
     "data": {
      "text/plain": [
       "True"
      ]
     },
     "execution_count": 41,
     "metadata": {},
     "output_type": "execute_result"
    }
   ],
   "source": [
    "from typing import Callable\n",
    "\n",
    "precision = 0.0001\n",
    "\n",
    "class Point:\n",
    "\n",
    "    def __init__(self, x: int, y: int):\n",
    "        self.x = x\n",
    "        self.y = y\n",
    "\n",
    "    def __str__(self):\n",
    "        return f\"({self.x}, {self.y})\"\n",
    "    \n",
    "    def __hash__(self) -> int:\n",
    "        return hash((self.x, self.y))\n",
    "\n",
    "def get_circle_data(point_1: Point, point_2: Point, point_3: Point) -> tuple[int, int, int]:\n",
    "    slope1, intercept1 = get_line_data(point_1, point_2)\n",
    "    slope2, intercept2 = get_line_data(point_2, point_3)\n",
    "    middle_point_1 = Point((point_1.x + point_2.x) / 2, (point_1.y + point_2.y) / 2)\n",
    "    middle_point_2 = Point((point_2.x + point_3.x) / 2, (point_2.y + point_3.y) / 2)\n",
    "    perpendicular_slope1 = -1 / slope1\n",
    "    perpendicular_slope2 = -1 / slope2\n",
    "    perpendicular_intercept1 = middle_point_1.y - perpendicular_slope1 * middle_point_1.x\n",
    "    perpendicular_intercept2 = middle_point_2.y - perpendicular_slope2 * middle_point_2.x\n",
    "    x = (perpendicular_intercept2 - perpendicular_intercept1) / (perpendicular_slope1 - perpendicular_slope2)\n",
    "    y = perpendicular_slope1 * x + perpendicular_intercept1\n",
    "    radius = ((point_1.x - x) ** 2 + (point_1.y - y) ** 2) ** 0.5\n",
    "    return x, y, radius\n",
    "\n",
    "def get_line_data(point_1: Point, point_2: Point) -> Callable[[int], int]:\n",
    "    if point_1.x == point_2.x:\n",
    "        return float('inf'), point_1.x   \n",
    "    slope = (point_2.y - point_1.y) / (point_2.x - point_1.x)\n",
    "    intercept = point_1.y - slope * point_1.x\n",
    "    \n",
    "    return slope, intercept\n",
    "\n",
    "def point_lies_on_circumference(points: list[Point]):\n",
    "    if len(points) < 1: # return False if no points\n",
    "        return False\n",
    "    if len(points) < 3: # a circle can be created with 2 points\n",
    "        return True\n",
    "    # checking if 3 points are on same line, if yes that means we can't create a circle\n",
    "    slope1, intercept1 = get_line_data(points[0], points[1])\n",
    "    for i in range(2, len(points)):\n",
    "        slope2, intercept2 = get_line_data(points[1], points[i])\n",
    "        if abs(slope1 - slope2) < precision and abs(intercept1 - intercept2) < precision:\n",
    "            return False\n",
    "    # checking if all points are on same circumference\n",
    "    x, y, radius = get_circle_data(points[0], points[1], points[2])\n",
    "    for i in range(3, len(points)):\n",
    "        if abs(((points[i].x - x) ** 2 + (points[i].y - y) ** 2) ** 0.5 - radius) > precision:\n",
    "            print(points[i], ((points[i].x - x) ** 2 + (points[i].y - y) ** 2) ** 0.5, f\"x: {x}, y: {y}, radius: {radius}\")\n",
    "            return False\n",
    "    return True\n",
    "\n",
    "point_lies_on_circumference([Point(1, 0), Point(0, 1), Point(-1, 0), Point(0, -1)])"
   ]
  },
  {
   "cell_type": "markdown",
   "metadata": {},
   "source": [
    "---"
   ]
  },
  {
   "cell_type": "markdown",
   "metadata": {},
   "source": [
    "10. Write a program that reads as its inputs the (x, y) coordinates of the endpoints of two line segments P1Q1 and P2Q2 and determines whether the segments\n",
    "have a common point."
   ]
  }
 ],
 "metadata": {
  "kernelspec": {
   "display_name": "Python 3",
   "language": "python",
   "name": "python3"
  },
  "language_info": {
   "codemirror_mode": {
    "name": "ipython",
    "version": 3
   },
   "file_extension": ".py",
   "mimetype": "text/x-python",
   "name": "python",
   "nbconvert_exporter": "python",
   "pygments_lexer": "ipython3",
   "version": "3.12.4"
  }
 },
 "nbformat": 4,
 "nbformat_minor": 2
}
